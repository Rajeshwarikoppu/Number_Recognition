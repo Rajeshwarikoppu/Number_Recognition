{
 "cells": [
  {
   "cell_type": "code",
   "execution_count": 1,
   "id": "2d58c472-5b8b-49bb-97b5-028df3566897",
   "metadata": {},
   "outputs": [],
   "source": [
    "import tensorflow\n",
    "from tensorflow import keras\n",
    "from tensorflow.keras import Sequential\n",
    "from tensorflow.keras.layers import Dense, Flatten"
   ]
  },
  {
   "cell_type": "code",
   "execution_count": 2,
   "id": "88f7a1ce-8e1e-4411-a67c-8bfb5b8589cd",
   "metadata": {},
   "outputs": [
    {
     "name": "stdout",
     "output_type": "stream",
     "text": [
      "Downloading data from https://storage.googleapis.com/tensorflow/tf-keras-datasets/mnist.npz\n",
      "11490434/11490434 [==============================] - 25s 2us/step\n"
     ]
    }
   ],
   "source": [
    "(X_train,y_train),(X_test,y_test)=keras.datasets.mnist.load_data()"
   ]
  },
  {
   "cell_type": "code",
   "execution_count": 3,
   "id": "eb0441d6-2049-4bec-b5fc-7c3eba2f4ecf",
   "metadata": {},
   "outputs": [
    {
     "data": {
      "text/plain": [
       "(60000, 28, 28)"
      ]
     },
     "execution_count": 3,
     "metadata": {},
     "output_type": "execute_result"
    }
   ],
   "source": [
    "X_train.shape"
   ]
  },
  {
   "cell_type": "code",
   "execution_count": 4,
   "id": "e294e1c0-dcc8-4cfd-aff3-35077c27a0ff",
   "metadata": {},
   "outputs": [
    {
     "data": {
      "text/plain": [
       "array([5, 0, 4, ..., 5, 6, 8], dtype=uint8)"
      ]
     },
     "execution_count": 4,
     "metadata": {},
     "output_type": "execute_result"
    }
   ],
   "source": [
    "y_train"
   ]
  },
  {
   "cell_type": "code",
   "execution_count": 5,
   "id": "06eef859-33cd-42ba-a2c3-dbd2ec556940",
   "metadata": {},
   "outputs": [
    {
     "data": {
      "text/plain": [
       "<matplotlib.image.AxesImage at 0x1c5f09d8760>"
      ]
     },
     "execution_count": 5,
     "metadata": {},
     "output_type": "execute_result"
    },
    {
     "data": {
      "image/png": "[encoded data removed]",
      "text/plain": [
       "<Figure size 640x480 with 1 Axes>"
      ]
     },
     "metadata": {},
     "output_type": "display_data"
    }
   ],
   "source": [
    "import matplotlib.pyplot as plt\n",
    "plt.imshow(X_train[0])"
   ]
  },
  {
   "cell_type": "code",
   "execution_count": 7,
   "id": "755278e4-587d-4f91-b7b9-c5260ac21669",
   "metadata": {},
   "outputs": [],
   "source": [
    "X_train=X_train/255\n",
    "X_test=X_test/255"
   ]
  },
  {
   "cell_type": "code",
   "execution_count": 8,
   "id": "0da5c171-c7a0-4c73-9260-2a83a3094f01",
   "metadata": {},
   "outputs": [],
   "source": [
    "model=Sequential()\n",
    "\n",
    "model.add(Flatten(input_shape=(28,28)))\n",
    "model.add(Dense(128,activation='relu'))\n",
    "model.add(Dense(32,activation='relu'))\n",
    "model.add(Dense(10,activation='softmax'))"
   ]
  },
  {
   "cell_type": "code",
   "execution_count": 9,
   "id": "61d8668e-fcb6-4d67-8553-9c18e7b1b1fb",
   "metadata": {},
   "outputs": [
    {
     "name": "stdout",
     "output_type": "stream",
     "text": [
      "Model: \"sequential\"\n",
      "_________________________________________________________________\n",
      " Layer (type)                Output Shape              Param #   \n",
      "=================================================================\n",
      " flatten (Flatten)           (None, 784)               0         \n",
      "                                                                 \n",
      " dense (Dense)               (None, 128)               100480    \n",
      "                                                                 \n",
      " dense_1 (Dense)             (None, 32)                4128      \n",
      "                                                                 \n",
      " dense_2 (Dense)             (None, 10)                330       \n",
      "                                                                 \n",
      "=================================================================\n",
      "Total params: 104938 (409.91 KB)\n",
      "Trainable params: 104938 (409.91 KB)\n",
      "Non-trainable params: 0 (0.00 Byte)\n",
      "_________________________________________________________________\n"
     ]
    }
   ],
   "source": [
    "model.summary()"
   ]
  },
  {
   "cell_type": "code",
   "execution_count": 10,
   "id": "043090d3-b415-4547-83a2-eeb678ed1b2e",
   "metadata": {},
   "outputs": [],
   "source": [
    "model.compile(loss='sparse_categorical_crossentropy',optimizer='Adam',metrics=['accuracy'])"
   ]
  },
  {
   "cell_type": "code",
   "execution_count": 11,
   "id": "dad17b4d-c559-4de9-853c-8869eb284621",
   "metadata": {},
   "outputs": [
    {
     "name": "stdout",
     "output_type": "stream",
     "text": [
      "Epoch 1/25\n",
      "1500/1500 [==============================] - 8s 4ms/step - loss: 0.2905 - accuracy: 0.9156 - val_loss: 0.1498 - val_accuracy: 0.9552\n",
      "Epoch 2/25\n",
      "1500/1500 [==============================] - 5s 4ms/step - loss: 0.1216 - accuracy: 0.9634 - val_loss: 0.1202 - val_accuracy: 0.9647\n",
      "Epoch 3/25\n",
      "1500/1500 [==============================] - 5s 3ms/step - loss: 0.0861 - accuracy: 0.9738 - val_loss: 0.1011 - val_accuracy: 0.9708\n",
      "Epoch 4/25\n",
      "1500/1500 [==============================] - 5s 3ms/step - loss: 0.0637 - accuracy: 0.9801 - val_loss: 0.0977 - val_accuracy: 0.9706\n",
      "Epoch 5/25\n",
      "1500/1500 [==============================] - 5s 3ms/step - loss: 0.0507 - accuracy: 0.9837 - val_loss: 0.1077 - val_accuracy: 0.9697\n",
      "Epoch 6/25\n",
      "1500/1500 [==============================] - 5s 3ms/step - loss: 0.0397 - accuracy: 0.9870 - val_loss: 0.1049 - val_accuracy: 0.9716\n",
      "Epoch 7/25\n",
      "1500/1500 [==============================] - 5s 4ms/step - loss: 0.0333 - accuracy: 0.9893 - val_loss: 0.0860 - val_accuracy: 0.9758\n",
      "Epoch 8/25\n",
      "1500/1500 [==============================] - 6s 4ms/step - loss: 0.0260 - accuracy: 0.9917 - val_loss: 0.0967 - val_accuracy: 0.9743\n",
      "Epoch 9/25\n",
      "1500/1500 [==============================] - 5s 4ms/step - loss: 0.0230 - accuracy: 0.9925 - val_loss: 0.0912 - val_accuracy: 0.9777\n",
      "Epoch 10/25\n",
      "1500/1500 [==============================] - 6s 4ms/step - loss: 0.0194 - accuracy: 0.9934 - val_loss: 0.1033 - val_accuracy: 0.9737\n",
      "Epoch 11/25\n",
      "1500/1500 [==============================] - 5s 3ms/step - loss: 0.0166 - accuracy: 0.9939 - val_loss: 0.1226 - val_accuracy: 0.9737\n",
      "Epoch 12/25\n",
      "1500/1500 [==============================] - 5s 3ms/step - loss: 0.0172 - accuracy: 0.9940 - val_loss: 0.1141 - val_accuracy: 0.9737\n",
      "Epoch 13/25\n",
      "1500/1500 [==============================] - 6s 4ms/step - loss: 0.0132 - accuracy: 0.9957 - val_loss: 0.1296 - val_accuracy: 0.9731\n",
      "Epoch 14/25\n",
      "1500/1500 [==============================] - 5s 3ms/step - loss: 0.0140 - accuracy: 0.9955 - val_loss: 0.1168 - val_accuracy: 0.9768\n",
      "Epoch 15/25\n",
      "1500/1500 [==============================] - 5s 4ms/step - loss: 0.0113 - accuracy: 0.9963 - val_loss: 0.1318 - val_accuracy: 0.9749\n",
      "Epoch 16/25\n",
      "1500/1500 [==============================] - 5s 3ms/step - loss: 0.0122 - accuracy: 0.9959 - val_loss: 0.1435 - val_accuracy: 0.9722\n",
      "Epoch 17/25\n",
      "1500/1500 [==============================] - 5s 3ms/step - loss: 0.0092 - accuracy: 0.9970 - val_loss: 0.1499 - val_accuracy: 0.9732\n",
      "Epoch 18/25\n",
      "1500/1500 [==============================] - 6s 4ms/step - loss: 0.0110 - accuracy: 0.9964 - val_loss: 0.1409 - val_accuracy: 0.9740\n",
      "Epoch 19/25\n",
      "1500/1500 [==============================] - 3s 2ms/step - loss: 0.0115 - accuracy: 0.9963 - val_loss: 0.1515 - val_accuracy: 0.9728\n",
      "Epoch 20/25\n",
      "1500/1500 [==============================] - 2s 2ms/step - loss: 0.0098 - accuracy: 0.9968 - val_loss: 0.1555 - val_accuracy: 0.9703\n",
      "Epoch 21/25\n",
      "1500/1500 [==============================] - 2s 2ms/step - loss: 0.0089 - accuracy: 0.9970 - val_loss: 0.1343 - val_accuracy: 0.9763\n",
      "Epoch 22/25\n",
      "1500/1500 [==============================] - 2s 2ms/step - loss: 0.0079 - accuracy: 0.9973 - val_loss: 0.1577 - val_accuracy: 0.9747\n",
      "Epoch 23/25\n",
      "1500/1500 [==============================] - 2s 2ms/step - loss: 0.0087 - accuracy: 0.9971 - val_loss: 0.1494 - val_accuracy: 0.9761\n",
      "Epoch 24/25\n",
      "1500/1500 [==============================] - 2s 2ms/step - loss: 0.0093 - accuracy: 0.9971 - val_loss: 0.1548 - val_accuracy: 0.9758\n",
      "Epoch 25/25\n",
      "1500/1500 [==============================] - 2s 2ms/step - loss: 0.0086 - accuracy: 0.9972 - val_loss: 0.1511 - val_accuracy: 0.9761\n"
     ]
    }
   ],
   "source": [
    "history=model.fit(X_train,y_train,epochs=25,validation_split=0.2)"
   ]
  },
  {
   "cell_type": "code",
   "execution_count": 12,
   "id": "56729769-c68a-41a2-bfbf-0e7bc6c4ce85",
   "metadata": {},
   "outputs": [
    {
     "name": "stdout",
     "output_type": "stream",
     "text": [
      "313/313 [==============================] - 0s 850us/step\n"
     ]
    },
    {
     "data": {
      "text/plain": [
       "array([[1.1643709e-20, 2.6453100e-18, 8.9396234e-17, ..., 1.0000000e+00,\n",
       "        2.5775555e-24, 1.3480156e-15],\n",
       "       [3.3970626e-24, 1.1973130e-16, 1.0000000e+00, ..., 5.9197988e-20,\n",
       "        1.4950434e-18, 0.0000000e+00],\n",
       "       [9.2318898e-19, 9.9999428e-01, 6.0590429e-11, ..., 5.6750378e-06,\n",
       "        1.0213594e-09, 5.5465636e-15],\n",
       "       ...,\n",
       "       [8.3415375e-35, 2.4686113e-23, 1.1568421e-24, ..., 8.8458231e-18,\n",
       "        2.4318414e-23, 3.5573749e-17],\n",
       "       [8.2147399e-23, 8.9767233e-27, 1.0004960e-30, ..., 2.5044164e-24,\n",
       "        6.0593342e-14, 1.2951162e-26],\n",
       "       [2.6562411e-14, 4.7379259e-22, 7.3148930e-18, ..., 2.8159201e-24,\n",
       "        4.8249416e-16, 3.8657829e-17]], dtype=float32)"
      ]
     },
     "execution_count": 12,
     "metadata": {},
     "output_type": "execute_result"
    }
   ],
   "source": [
    "model.predict(X_test)"
   ]
  },
  {
   "cell_type": "code",
   "execution_count": 13,
   "id": "643ed95b-528d-40a8-b6e7-3d1b2ffa5cc0",
   "metadata": {},
   "outputs": [
    {
     "name": "stdout",
     "output_type": "stream",
     "text": [
      "313/313 [==============================] - 0s 755us/step\n"
     ]
    }
   ],
   "source": [
    "y_prob=model.predict(X_test)"
   ]
  },
  {
   "cell_type": "code",
   "execution_count": 14,
   "id": "41afc564-b7e9-4494-9bad-b16f236aa467",
   "metadata": {},
   "outputs": [],
   "source": [
    "y_pred=y_prob.argmax(axis=1)"
   ]
  },
  {
   "cell_type": "code",
   "execution_count": 15,
   "id": "08b214ed-d71b-4776-970f-d4a9dae56639",
   "metadata": {},
   "outputs": [
    {
     "data": {
      "text/plain": [
       "0.9788"
      ]
     },
     "execution_count": 15,
     "metadata": {},
     "output_type": "execute_result"
    }
   ],
   "source": [
    "from sklearn.metrics import accuracy_score\n",
    "accuracy_score(y_test,y_pred)"
   ]
  },
  {
   "cell_type": "code",
   "execution_count": 16,
   "id": "3a44ea4c-c570-47d4-bab4-c3a7883ba988",
   "metadata": {},
   "outputs": [
    {
     "data": {
      "text/plain": [
       "[<matplotlib.lines.Line2D at 0x1c598c4b010>]"
      ]
     },
     "execution_count": 16,
     "metadata": {},
     "output_type": "execute_result"
    },
    {
     "data": {
      "image/png": "[encoded data removed]",
      "text/plain": [
       "<Figure size 640x480 with 1 Axes>"
      ]
     },
     "metadata": {},
     "output_type": "display_data"
    }
   ],
   "source": [
    "plt.plot(history.history['loss'])\n",
    "plt.plot(history.history['val_loss'])"
   ]
  },
  {
   "cell_type": "code",
   "execution_count": 17,
   "id": "d5d2726a-7faa-4d5e-a0a8-fee6f13e3833",
   "metadata": {},
   "outputs": [
    {
     "data": {
      "text/plain": [
       "[<matplotlib.lines.Line2D at 0x1c598cccf70>]"
      ]
     },
     "execution_count": 17,
     "metadata": {},
     "output_type": "execute_result"
    },
    {
     "data": {
      "image/png": "[encoded data removed]",
      "text/plain": [
       "<Figure size 640x480 with 1 Axes>"
      ]
     },
     "metadata": {},
     "output_type": "display_data"
    }
   ],
   "source": [
    "plt.plot(history.history['accuracy'])\n",
    "plt.plot(history.history['val_accuracy'])"
   ]
  },
  {
   "cell_type": "code",
   "execution_count": 18,
   "id": "007f4277-3b22-42b2-ab71-f1e48eaa83aa",
   "metadata": {},
   "outputs": [
    {
     "data": {
      "text/plain": [
       "<matplotlib.image.AxesImage at 0x1c598d07400>"
      ]
     },
     "execution_count": 18,
     "metadata": {},
     "output_type": "execute_result"
    },
    {
     "data": {
      "image/png": "[encoded data removed]",
      "text/plain": [
       "<Figure size 640x480 with 1 Axes>"
      ]
     },
     "metadata": {},
     "output_type": "display_data"
    }
   ],
   "source": [
    "plt.imshow(X_test[0])"
   ]
  },
  {
   "cell_type": "code",
   "execution_count": 19,
   "id": "b6087db1-88f4-46ca-828c-08f0c474de18",
   "metadata": {},
   "outputs": [
    {
     "name": "stdout",
     "output_type": "stream",
     "text": [
      "1/1 [==============================] - 0s 37ms/step\n"
     ]
    },
    {
     "data": {
      "text/plain": [
       "array([7], dtype=int64)"
      ]
     },
     "execution_count": 19,
     "metadata": {},
     "output_type": "execute_result"
    }
   ],
   "source": [
    "model.predict(X_test[0].reshape(1,28,28)).argmax(axis=1)"
   ]
  },
  {
   "cell_type": "code",
   "execution_count": null,
   "id": "de26d6a7-4f3f-4019-8890-4f4418fbc1da",
   "metadata": {},
   "outputs": [],
   "source": []
  }
 ],
 "metadata": {
  "kernelspec": {
   "display_name": "Python 3 (ipykernel)",
   "language": "python",
   "name": "python3"
  },
  "language_info": {
   "codemirror_mode": {
    "name": "ipython",
    "version": 3
   },
   "file_extension": ".py",
   "mimetype": "text/x-python",
   "name": "python",
   "nbconvert_exporter": "python",
   "pygments_lexer": "ipython3",
   "version": "3.10.7"
  }
 },
 "nbformat": 4,
 "nbformat_minor": 5
}
